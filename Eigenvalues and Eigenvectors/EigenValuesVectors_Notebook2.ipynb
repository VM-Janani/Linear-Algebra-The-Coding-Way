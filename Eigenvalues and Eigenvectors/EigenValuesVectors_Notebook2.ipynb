{
  "nbformat": 4,
  "nbformat_minor": 0,
  "metadata": {
    "colab": {
      "provenance": [],
      "authorship_tag": "ABX9TyONpKcNX3C1scgjqNbq1nIH",
      "include_colab_link": true
    },
    "kernelspec": {
      "name": "python3",
      "display_name": "Python 3"
    },
    "language_info": {
      "name": "python"
    }
  },
  "cells": [
    {
      "cell_type": "markdown",
      "metadata": {
        "id": "view-in-github",
        "colab_type": "text"
      },
      "source": [
        "<a href=\"https://colab.research.google.com/github/VM-Janani/Linear-Algebra-The-Coding-Way/blob/main/Eigenvalues%20and%20Eigenvectors/EigenValuesVectors_Notebook2.ipynb\" target=\"_parent\"><img src=\"https://colab.research.google.com/assets/colab-badge.svg\" alt=\"Open In Colab\"/></a>"
      ]
    },
    {
      "cell_type": "code",
      "source": [
        "import numpy as np\n",
        "import sympy as sp"
      ],
      "metadata": {
        "id": "kWFTMeYcklTV"
      },
      "execution_count": null,
      "outputs": []
    },
    {
      "cell_type": "code",
      "execution_count": null,
      "metadata": {
        "id": "AkgNAGMqEMkZ"
      },
      "outputs": [],
      "source": [
        "def eigenvalue_eigenvector(matrix):\n",
        "  # Calculate eigenvalues and eigenvectors\n",
        "  eigenvalues, eigenvectors = np.linalg.eig(matrix)\n",
        "  # Print the result\n",
        "  print(\"Eigenvalues:\", eigenvalues)\n",
        "  print(\"Eigenvectors:\", eigenvectors)\n",
        "  eig_matrix_sympy = sp.Matrix(eigenvectors)\n",
        "\n",
        "  # Compute the reduced row echelon form (RREF)\n",
        "  rref = eig_matrix_sympy.rref()\n",
        "  print(\"\\nRREF:\")\n",
        "  print(rref[0])\n",
        "\n",
        "  #calculate the number of non-zero rows\n",
        "  non_zero_rows = np.count_nonzero(rref[0])\n",
        "  print(\"\\nNumber of non-zero rows:\", non_zero_rows)\n",
        "\n",
        "  # Check if eigenvectors are linearly independent\n",
        "  if non_zero_rows == min(matrix.shape):\n",
        "      unique_elements = np.unique(eigenvalues)\n",
        "      if len(unique_elements) == len(eigenvalues):\n",
        "          print(\"\\nThe Eigenvalues are distinct & the Eigenvectors are linearly independent.\")\n",
        "      else:\n",
        "          print(\"\\nThe Eigenvalues are not distinct but the Eigenvectors are linearly independent.\")\n",
        "  else:\n",
        "      print(\"\\nThe Eigenvalues are not distinct & the Eigenvectors are linearly dependent.\")\n",
        "\n"
      ]
    },
    {
      "cell_type": "markdown",
      "source": [
        " Eigenvalues are distinct & the Eigenvectors are linearly independent"
      ],
      "metadata": {
        "id": "Ki0m_fORW1UH"
      }
    },
    {
      "cell_type": "code",
      "source": [
        "# Define the matrix\n",
        "A = np.array([[2, 1,0],\n",
        "              [1, 3,-1],\n",
        "              [0,-1,4]])\n",
        "eigenvalue_eigenvector(A)"
      ],
      "metadata": {
        "colab": {
          "base_uri": "https://localhost:8080/"
        },
        "id": "-pmCOv88lBqF",
        "outputId": "e3690985-b105-4a9d-f2f7-78359527495b"
      },
      "execution_count": null,
      "outputs": [
        {
          "output_type": "stream",
          "name": "stdout",
          "text": [
            "Eigenvalues: [1.26794919 3.         4.73205081]\n",
            "Eigenvectors: [[-0.78867513 -0.57735027 -0.21132487]\n",
            " [ 0.57735027 -0.57735027 -0.57735027]\n",
            " [ 0.21132487 -0.57735027  0.78867513]]\n",
            "\n",
            "RREF:\n",
            "Matrix([[1, 0, 0], [0, 1, 0], [0, 0, 1]])\n",
            "\n",
            "Number of non-zero rows: 3\n",
            "\n",
            "The Eigenvalues are distinct & the Eigenvectors are linearly independent.\n"
          ]
        }
      ]
    },
    {
      "cell_type": "markdown",
      "source": [
        "The Eigenvalues are not distinct but the Eigenvectors are linearly independent"
      ],
      "metadata": {
        "id": "t0mMZqGcWyMZ"
      }
    },
    {
      "cell_type": "code",
      "source": [
        "# Define the matrix\n",
        "A1 = np.array([[2, 1,0],\n",
        "              [0, 2,1],\n",
        "              [0,0,2]])\n",
        "eigenvalue_eigenvector(A1)"
      ],
      "metadata": {
        "colab": {
          "base_uri": "https://localhost:8080/"
        },
        "id": "k1sxK0ARWnmB",
        "outputId": "8486c2ab-b08e-45da-e590-8af3f38031ea"
      },
      "execution_count": null,
      "outputs": [
        {
          "output_type": "stream",
          "name": "stdout",
          "text": [
            "Eigenvalues: [2. 2. 2.]\n",
            "Eigenvectors: [[ 1.00000000e+00 -1.00000000e+00  1.00000000e+00]\n",
            " [ 0.00000000e+00  4.44089210e-16 -4.44089210e-16]\n",
            " [ 0.00000000e+00  0.00000000e+00  1.97215226e-31]]\n",
            "\n",
            "RREF:\n",
            "Matrix([[1, 0, 0], [0, 1, 0], [0, 0, 1]])\n",
            "\n",
            "Number of non-zero rows: 3\n",
            "\n",
            "The Eigenvalues are not distinct but the Eigenvectors are linearly independent.\n"
          ]
        }
      ]
    },
    {
      "cell_type": "code",
      "source": [
        "#define the matrix\n",
        "A2 = np.array([[2, 0],\n",
        "               [0, 2]])\n",
        "eigenvalue_eigenvector(A2)"
      ],
      "metadata": {
        "colab": {
          "base_uri": "https://localhost:8080/"
        },
        "id": "r6f6LPbcXaCD",
        "outputId": "1c95113d-8418-40ee-f7d2-7e92416c42d0"
      },
      "execution_count": null,
      "outputs": [
        {
          "output_type": "stream",
          "name": "stdout",
          "text": [
            "Eigenvalues: [2. 2.]\n",
            "Eigenvectors: [[1. 0.]\n",
            " [0. 1.]]\n",
            "\n",
            "RREF:\n",
            "Matrix([[1, 0], [0, 1]])\n",
            "\n",
            "Number of non-zero rows: 2\n",
            "\n",
            "The Eigenvalues are not distinct but the Eigenvectors are linearly independent.\n"
          ]
        }
      ]
    }
  ]
}